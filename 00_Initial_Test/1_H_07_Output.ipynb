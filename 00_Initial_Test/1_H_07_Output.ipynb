{
 "cells": [
  {
   "cell_type": "markdown",
   "metadata": {},
   "source": [
    "# Check output for 1_H_07 SCARF Test"
   ]
  },
  {
   "cell_type": "markdown",
   "metadata": {},
   "source": [
    "---\n",
    "> This is a **simulation of the CERN Proton Synchrotron (PS) Machine Development (MD)4224 in 2018: Space Charge Injection Study**\n",
    ">\n",
    "> - Injection at 1.4 GeV, single turn, bucket to bucket\n",
    "> - Longitudinal distribution generated from Tomoscope measurement (same for both sims)\n",
    "> - First 2200 turns\n",
    "> - Working point at extreme horizontal tune of $(Q_x, Q_y)$ = (6.07, 6.24)\n",
    "> - Initial RMS emittances $\\epsilon_x = \\epsilon_y$ = 1 mm mrad\n",
    "> - Expect space charge emittance growth due to quadrupolar resonance being driven by low energy quads, used to set tune, and not symmetrically distributed around the very periodic PS"
   ]
  },
  {
   "cell_type": "markdown",
   "metadata": {},
   "source": [
    "#### Imports"
   ]
  },
  {
   "cell_type": "code",
   "execution_count": 1,
   "metadata": {},
   "outputs": [],
   "source": [
    "import os\n",
    "import glob\n",
    "#import imageio\n",
    "#import pickle\n",
    "#import pandas as pd\n",
    "import numpy as np\n",
    "#import PyNAFF as pnf\n",
    "import scipy.io as sio \n",
    "import matplotlib.cm as cm\n",
    "from math import log10, floor\n",
    "import matplotlib\n",
    "import matplotlib.pyplot as plt\n",
    "#from matplotlib.lines import Line2D\n",
    "#from matplotlib.patches import Patch\n",
    "#from scipy.optimize import curve_fit"
   ]
  },
  {
   "cell_type": "markdown",
   "metadata": {},
   "source": [
    "#### Matplotlib Plot Parameters"
   ]
  },
  {
   "cell_type": "code",
   "execution_count": 2,
   "metadata": {},
   "outputs": [],
   "source": [
    "plt.rcParams['figure.figsize'] = [9.0, 8.0]\n",
    "plt.rcParams['figure.dpi'] = 200\n",
    "plt.rcParams['savefig.dpi'] = 200\n",
    "\n",
    "plt.rcParams['axes.titlesize'] = 12\n",
    "plt.rcParams['axes.labelsize'] = 12\n",
    "\n",
    "plt.rcParams['xtick.labelsize'] = 10\n",
    "plt.rcParams['ytick.labelsize'] = 10\n",
    "\n",
    "plt.rcParams['font.size'] = 10\n",
    "plt.rcParams['legend.fontsize'] = 8\n",
    "\n",
    "plt.rcParams['lines.linewidth'] = 1.5\n",
    "plt.rcParams['lines.markersize'] = 5"
   ]
  },
  {
   "cell_type": "markdown",
   "metadata": {},
   "source": [
    "#### Functions"
   ]
  },
  {
   "cell_type": "code",
   "execution_count": 3,
   "metadata": {},
   "outputs": [],
   "source": [
    "def round_sig(x, sig=3):\n",
    "        return round(x, sig-int(floor(log10(abs(x))))-1)\n",
    "\n",
    "def check_if_file_exists(name):\n",
    "    ret_val = False\n",
    "    if os.path.isfile(name):\n",
    "        print (name, ' exists')\n",
    "        ret_val = True\n",
    "    return ret_val\n",
    "    \n",
    "def is_non_zero_file(fpath):  \n",
    "        print ('\\n\\t\\t\\tis_non_zero_file:: Checking file ', fpath)\n",
    "        print ('\\n\\t\\t\\tis_non_zero_file:: File exists = ', os.path.isfile(fpath))\n",
    "        print ('\\n\\t\\t\\tis_non_zero_file:: Size > 3 bytes = ', os.path.getsize(fpath))\n",
    "        return os.path.isfile(fpath) and os.path.getsize(fpath) > 3"
   ]
  },
  {
   "cell_type": "code",
   "execution_count": 4,
   "metadata": {},
   "outputs": [],
   "source": [
    "def add_input_file(dd, filename, label):\n",
    "    f = filename\n",
    "    p = dict()\n",
    "    sio.loadmat(f, mdict=p)\n",
    "    dd[label] = p\t\n",
    "    print ('\\tAdded output data from ', filename, '\\t dictionary key: ', label)\n",
    "    return dd"
   ]
  },
  {
   "cell_type": "code",
   "execution_count": 5,
   "metadata": {},
   "outputs": [],
   "source": [
    "def make_directory(path):\n",
    "    try:\n",
    "        os.mkdir(path)\n",
    "    except OSError:\n",
    "        print (\"Creation of the directory %s failed\" % path)\n",
    "    else:\n",
    "        print (\"Successfully created the directory %s \" % path)  "
   ]
  },
  {
   "cell_type": "markdown",
   "metadata": {},
   "source": [
    "#### Read File"
   ]
  },
  {
   "cell_type": "code",
   "execution_count": 6,
   "metadata": {},
   "outputs": [
    {
     "name": "stdout",
     "output_type": "stream",
     "text": [
      "\tAdded output data from  1_H_07/output/output.mat \t dictionary key:  STFC SCARF\n",
      "\tAdded output data from  ../../MD4224_Light/06_Full_Simulation_Scan_Tomo/1_H_07/output/output.mat \t dictionary key:  CERN HPC-Batch\n"
     ]
    }
   ],
   "source": [
    "dd1 = dict()\n",
    "dd1 = add_input_file(dd1, '1_H_07/output/output.mat', 'STFC SCARF')\n",
    "dd1 = add_input_file(dd1, '../../MD4224_Light/06_Full_Simulation_Scan_Tomo/1_H_07/output/output.mat', 'CERN HPC-Batch')"
   ]
  },
  {
   "cell_type": "code",
   "execution_count": 7,
   "metadata": {},
   "outputs": [
    {
     "data": {
      "text/plain": [
       "dict_keys(['__header__', '__version__', '__globals__', 'eps_z', 'D_x', 'D_y', 'mu_y', 'kurtosis_yp_6sig', 'kurtosis_yp', 'kurtosis_y', 'intensity', 'mu_yp', 'kurtosis_z_6sig', 'min_yp', 'cumulative_time', 'eff_beta_y', 'eff_beta_x', 'kurtosis_y_6sig', 'kurtosis_x', 'min_x', 'mu_z', 'epsn_y', 'epsn_x', 'beta_y', 'beta_x', 'max_xp', 'mean_yp', 'sig_dE', 'dpp_rms', 'kurtosis_xp', 'eff_epsn_y', 'eff_epsn_x', 'mean_x', 'mean_y', 'mean_z', 'min_dE', 'kurtosis_x_6sig', 'max_z', 'mu_dE', 'max_x', 'max_y', 'n_mp', 'mean_dE', 'min_y', 'kurtosis_xp_6sig', 'sig_yp', 'sig_y', 'sig_x', 'min_xp', 'max_yp', 'kurtosis_z', 'eff_alpha_x', 'eff_alpha_y', 'mu_xp', 'turn_time', 'alpha_x', 'alpha_y', 'mean_xp', 'bunchlength', 'turn_duration', 'sig_z', 'kurtosis_dE', 'mu_x', 'turn', 'sig_xp', 'max_dE', 'kurtosis_dE_6sig', 'min_z', 'gamma'])"
      ]
     },
     "execution_count": 7,
     "metadata": {},
     "output_type": "execute_result"
    }
   ],
   "source": [
    "dd1['STFC SCARF'].keys()"
   ]
  },
  {
   "cell_type": "code",
   "execution_count": 8,
   "metadata": {},
   "outputs": [
    {
     "name": "stdout",
     "output_type": "stream",
     "text": [
      "Creation of the directory 1_H_07_Plots failed\n"
     ]
    }
   ],
   "source": [
    "save_folder = '1_H_07_Plots'\n",
    "make_directory(save_folder)"
   ]
  },
  {
   "cell_type": "markdown",
   "metadata": {},
   "source": [
    "#### Setup Plots Labels / Titles"
   ]
  },
  {
   "cell_type": "code",
   "execution_count": 9,
   "metadata": {},
   "outputs": [],
   "source": [
    "sc = 'SbS'\n",
    "legend_label1 = r'$Q_x$'  \n",
    "legend_label2 = r'$Q_y$'   \n",
    "main_label = 'PyORBIT SCARF Test'\n",
    "main_label2 = main_label + '_zoom'\n",
    "scaled_label = main_label + '_scaled'\n",
    "turn_tot = 2200\n",
    "zoom_turns = 30\n",
    "turns = [0, 1, 10, 50, 100, 874, 2185, 2199]\n",
    "#betagamma = 2.492104532 * 0.9159915293879255"
   ]
  },
  {
   "cell_type": "code",
   "execution_count": 10,
   "metadata": {},
   "outputs": [
    {
     "data": {
      "image/png": "[encoded data removed]",
      "text/plain": [
       "<Figure size 800x800 with 1 Axes>"
      ]
     },
     "metadata": {},
     "output_type": "display_data"
    }
   ],
   "source": [
    "parameter = 'intensity'\n",
    "multi1 = 1E-12\n",
    "y_label = r'Intensity [$10^{12}$]'\n",
    "\n",
    "fig1 = plt.figure(facecolor='w', edgecolor='k', figsize=(4.,4.), tight_layout=True)\n",
    "ax1 = fig1.add_subplot(111)\n",
    "\n",
    "title = main_label + ': ' + parameter\n",
    "ax1.set_title(title)\n",
    "\n",
    "ax1.set_xlabel('Turn [-]')\n",
    "ax1.set_ylabel(y_label)\n",
    "\n",
    "colors = cm.rainbow(np.linspace(0, 1, len(dd1.keys())))\n",
    "c_it = int(0)\n",
    "\n",
    "for key, value in sorted(dd1.items()):\n",
    "    ax1.plot(dd1[key]['turn'][0], dd1[key][parameter][0]*multi1, label=key, color=colors[c_it]);\n",
    "    c_it = c_it + 1;       \n",
    "    \n",
    "ax1.grid(which='both',lw=0.5, ls=':');\n",
    "ax1.set_xlim(0, 2200);\n",
    "    \n",
    "savename = save_folder +'/' + main_label + '_' + parameter + '.png'\n",
    "plt.savefig(savename);"
   ]
  },
  {
   "cell_type": "code",
   "execution_count": null,
   "metadata": {},
   "outputs": [],
   "source": [
    "parameter = 'n_mp'\n",
    "multi1 = 1E-6\n",
    "y_label = r'N$_{Macroparticles}$ [$10^{6}$]'\n",
    "\n",
    "fig1 = plt.figure(facecolor='w', edgecolor='k', figsize=(4.,4.), tight_layout=True)\n",
    "ax1 = fig1.add_subplot(111)\n",
    "\n",
    "title = main_label + ': ' + parameter\n",
    "ax1.set_title(title)\n",
    "\n",
    "ax1.set_xlabel('Turn [-]')\n",
    "ax1.set_ylabel(y_label)\n",
    "\n",
    "colors = cm.rainbow(np.linspace(0, 1, len(dd1.keys())))\n",
    "c_it = int(0)\n",
    "\n",
    "for key, value in sorted(dd1.items()):\n",
    "    ax1.plot(dd1[key]['turn'][0], dd1[key][parameter][0]*multi1, label=key, color=colors[c_it]);\n",
    "    c_it = c_it + 1;       \n",
    "    \n",
    "ax1.grid(which='both',lw=0.5, ls=':');\n",
    "ax1.legend();\n",
    "ax1.set_xlim(0, 2200);\n",
    "    \n",
    "savename = save_folder +'/' + main_label + '_' + parameter + '.png'\n",
    "plt.savefig(savename);"
   ]
  },
  {
   "cell_type": "code",
   "execution_count": null,
   "metadata": {},
   "outputs": [],
   "source": [
    "parameter = 'cumulative_time'\n",
    "multi1 = 1./60.\n",
    "y_label = 'Time [s]'\n",
    "\n",
    "fig1 = plt.figure(facecolor='w', edgecolor='k', figsize=(4.,4.), tight_layout=True)\n",
    "ax1 = fig1.add_subplot(111)\n",
    "\n",
    "title = main_label + ': ' + parameter\n",
    "ax1.set_title(title)\n",
    "\n",
    "ax1.set_xlabel('Turn [-]')\n",
    "ax1.set_ylabel(y_label)\n",
    "\n",
    "colors = cm.rainbow(np.linspace(0, 1, len(dd1.keys())))\n",
    "c_it = int(0)\n",
    "\n",
    "for key, value in sorted(dd1.items()):\n",
    "    ax1.plot(dd1[key]['turn'][0], dd1[key][parameter][0]*multi1, label=key, color=colors[c_it]);\n",
    "    c_it = c_it + 1;       \n",
    "    \n",
    "ax1.grid(which='both',lw=0.5, ls=':');\n",
    "ax1.legend();\n",
    "ax1.set_xlim(0, 2200);\n",
    "    \n",
    "savename = save_folder +'/' + main_label + '_' + parameter + '.png'\n",
    "plt.savefig(savename);"
   ]
  },
  {
   "cell_type": "code",
   "execution_count": null,
   "metadata": {},
   "outputs": [],
   "source": [
    "average_SCARF_turn = np.mean(dd1['STFC SCARF']['turn_duration'][0])\n",
    "average_SCARF_turn"
   ]
  },
  {
   "cell_type": "code",
   "execution_count": null,
   "metadata": {},
   "outputs": [],
   "source": [
    "average_HPC_Batch_turn = np.mean(dd1['CERN HPC-Batch']['turn_duration'][0])\n",
    "average_HPC_Batch_turn"
   ]
  },
  {
   "cell_type": "code",
   "execution_count": null,
   "metadata": {},
   "outputs": [],
   "source": [
    "average_SCARF_turn/average_HPC_Batch_turn"
   ]
  },
  {
   "cell_type": "markdown",
   "metadata": {},
   "source": [
    "## SCARF PyORBIT is 4 times slower than HPC-Batch PyORBIT"
   ]
  },
  {
   "cell_type": "code",
   "execution_count": null,
   "metadata": {},
   "outputs": [],
   "source": [
    "parameter = 'turn_duration'\n",
    "multi1 = 1\n",
    "y_label = 'Time [s]'\n",
    "\n",
    "fig1 = plt.figure(facecolor='w', edgecolor='k', figsize=(4.,4.), tight_layout=True)\n",
    "ax1 = fig1.add_subplot(111)\n",
    "\n",
    "title = main_label + ': ' + parameter\n",
    "ax1.set_title(title)\n",
    "\n",
    "ax1.set_xlabel('Turn [-]')\n",
    "ax1.set_ylabel(y_label)\n",
    "\n",
    "colors = cm.rainbow(np.linspace(0, 1, len(dd1.keys())))\n",
    "c_it = int(0)\n",
    "\n",
    "for key, value in sorted(dd1.items()):\n",
    "    ax1.plot(dd1[key]['turn'][0], dd1[key][parameter][0]*multi1, label=key, color=colors[c_it]);\n",
    "    c_it = c_it + 1;       \n",
    "\n",
    "text_ = 'Average turn times:\\nSTFC SCARF: '+str(round_sig(average_SCARF_turn))+' s\\nCERN HPC-Batch: '+str(round_sig(average_HPC_Batch_turn))+' s'   \n",
    "plt.text(500., 150., text_)\n",
    "    \n",
    "ax1.grid(which='both',lw=0.5, ls=':');\n",
    "ax1.legend();\n",
    "ax1.set_xlim(0, 2200);\n",
    "    \n",
    "savename = save_folder +'/' + main_label + '_' + parameter + '.png'\n",
    "plt.savefig(savename);"
   ]
  },
  {
   "cell_type": "code",
   "execution_count": null,
   "metadata": {},
   "outputs": [],
   "source": [
    "average_SCARF_turn = np.mean(dd1['STFC SCARF']['turn_duration'][0])\n",
    "average_SCARF_turn"
   ]
  },
  {
   "cell_type": "code",
   "execution_count": null,
   "metadata": {},
   "outputs": [],
   "source": [
    "average_HPC_Batch_turn = np.mean(dd1['CERN HPC-Batch']['turn_duration'][0])\n",
    "average_HPC_Batch_turn"
   ]
  },
  {
   "cell_type": "code",
   "execution_count": null,
   "metadata": {},
   "outputs": [],
   "source": [
    "average_SCARF_turn/average_HPC_Batch_turn"
   ]
  },
  {
   "cell_type": "markdown",
   "metadata": {},
   "source": [
    "## SCARF PyORBIT is 4 times slower than HPC-Batch PyORBIT"
   ]
  },
  {
   "cell_type": "code",
   "execution_count": null,
   "metadata": {},
   "outputs": [],
   "source": [
    "parameter = 'sig_x'\n",
    "multi1 = 1E3\n",
    "y_label = r'$\\sigma_x$ [mm]'\n",
    "\n",
    "fig1 = plt.figure(facecolor='w', edgecolor='k', figsize=(4.,4.), tight_layout=True)\n",
    "ax1 = fig1.add_subplot(111)\n",
    "\n",
    "title = main_label + ': ' + parameter\n",
    "ax1.set_title(title)\n",
    "\n",
    "ax1.set_xlabel('Turn [-]')\n",
    "ax1.set_ylabel(y_label)\n",
    "\n",
    "colors = cm.rainbow(np.linspace(0, 1, len(dd1.keys())))\n",
    "c_it = int(0)\n",
    "\n",
    "for key, value in sorted(dd1.items()):\n",
    "    ax1.plot(dd1[key]['turn'][0], dd1[key][parameter][0]*multi1, label=key, color=colors[c_it]);\n",
    "    c_it = c_it + 1;       \n",
    "    \n",
    "ax1.grid(which='both',lw=0.5, ls=':');\n",
    "ax1.legend();\n",
    "ax1.set_xlim(0, 2200);\n",
    "    \n",
    "savename = save_folder +'/' + main_label + '_' + parameter + '.png'\n",
    "plt.savefig(savename);"
   ]
  },
  {
   "cell_type": "code",
   "execution_count": null,
   "metadata": {},
   "outputs": [],
   "source": [
    "parameter = 'sig_y'\n",
    "multi1 = 1E3\n",
    "y_label = r'$\\sigma_y$ [mm]'\n",
    "\n",
    "fig1 = plt.figure(facecolor='w', edgecolor='k', figsize=(4.,4.), tight_layout=True)\n",
    "ax1 = fig1.add_subplot(111)\n",
    "\n",
    "title = main_label + ': ' + parameter\n",
    "ax1.set_title(title)\n",
    "\n",
    "ax1.set_xlabel('Turn [-]')\n",
    "ax1.set_ylabel(y_label)\n",
    "\n",
    "colors = cm.rainbow(np.linspace(0, 1, len(dd1.keys())))\n",
    "c_it = int(0)\n",
    "\n",
    "for key, value in sorted(dd1.items()):\n",
    "    ax1.plot(dd1[key]['turn'][0], dd1[key][parameter][0]*multi1, label=key, color=colors[c_it]);\n",
    "    c_it = c_it + 1;       \n",
    "    \n",
    "ax1.grid(which='both',lw=0.5, ls=':');\n",
    "ax1.legend();\n",
    "ax1.set_xlim(0, 2200);\n",
    "    \n",
    "savename = save_folder +'/' + main_label + '_' + parameter + '.png'\n",
    "plt.savefig(savename);"
   ]
  },
  {
   "cell_type": "code",
   "execution_count": null,
   "metadata": {},
   "outputs": [],
   "source": [
    "parameter = 'sig_xp'\n",
    "multi1 = 1E3\n",
    "y_label = r'$\\sigma_{xp$ [-]'\n",
    "\n",
    "fig1 = plt.figure(facecolor='w', edgecolor='k', figsize=(4.,4.), tight_layout=True)\n",
    "ax1 = fig1.add_subplot(111)\n",
    "\n",
    "title = main_label + ': ' + parameter\n",
    "ax1.set_title(title)\n",
    "\n",
    "ax1.set_xlabel('Turn [-]')\n",
    "ax1.set_ylabel(y_label)\n",
    "\n",
    "colors = cm.rainbow(np.linspace(0, 1, len(dd1.keys())))\n",
    "c_it = int(0)\n",
    "\n",
    "for key, value in sorted(dd1.items()):\n",
    "    ax1.plot(dd1[key]['turn'][0], dd1[key][parameter][0]*multi1, label=key, color=colors[c_it]);\n",
    "    c_it = c_it + 1;       \n",
    "    \n",
    "ax1.grid(which='both',lw=0.5, ls=':');\n",
    "ax1.legend();\n",
    "ax1.set_xlim(0, 2200);\n",
    "    \n",
    "savename = save_folder +'/' + main_label + '_' + parameter + '.png'\n",
    "plt.savefig(savename);"
   ]
  },
  {
   "cell_type": "code",
   "execution_count": null,
   "metadata": {},
   "outputs": [],
   "source": [
    "parameter = 'sig_yp'\n",
    "multi1 = 1E3\n",
    "y_label = r'$\\sigma_{yp}$ [-]'\n",
    "\n",
    "fig1 = plt.figure(facecolor='w', edgecolor='k', figsize=(4.,4.), tight_layout=True)\n",
    "ax1 = fig1.add_subplot(111)\n",
    "\n",
    "title = main_label + ': ' + parameter\n",
    "ax1.set_title(title)\n",
    "\n",
    "ax1.set_xlabel('Turn [-]')\n",
    "ax1.set_ylabel(y_label)\n",
    "\n",
    "colors = cm.rainbow(np.linspace(0, 1, len(dd1.keys())))\n",
    "c_it = int(0)\n",
    "\n",
    "for key, value in sorted(dd1.items()):\n",
    "    ax1.plot(dd1[key]['turn'][0], dd1[key][parameter][0]*multi1, label=key, color=colors[c_it]);\n",
    "    c_it = c_it + 1;       \n",
    "    \n",
    "ax1.grid(which='both',lw=0.5, ls=':');\n",
    "ax1.legend();\n",
    "ax1.set_xlim(0, 2200);\n",
    "    \n",
    "savename = save_folder +'/' + main_label + '_' + parameter + '.png'\n",
    "plt.savefig(savename);"
   ]
  },
  {
   "cell_type": "code",
   "execution_count": null,
   "metadata": {},
   "outputs": [],
   "source": [
    "parameter = 'beta_x'\n",
    "multi1 = 1\n",
    "y_label = r'$\\beta_x$ [m]'\n",
    "\n",
    "fig1 = plt.figure(facecolor='w', edgecolor='k', figsize=(4.,4.), tight_layout=True)\n",
    "ax1 = fig1.add_subplot(111)\n",
    "\n",
    "title = main_label + ': ' + parameter\n",
    "ax1.set_title(title)\n",
    "\n",
    "ax1.set_xlabel('Turn [-]')\n",
    "ax1.set_ylabel(y_label)\n",
    "\n",
    "colors = cm.rainbow(np.linspace(0, 1, len(dd1.keys())))\n",
    "c_it = int(0)\n",
    "\n",
    "for key, value in sorted(dd1.items()):\n",
    "    ax1.plot(dd1[key]['turn'][0], dd1[key][parameter][0]*multi1, label=key, color=colors[c_it]);\n",
    "    c_it = c_it + 1;       \n",
    "    \n",
    "ax1.grid(which='both',lw=0.5, ls=':');\n",
    "ax1.legend();\n",
    "ax1.set_xlim(0, 2200);\n",
    "    \n",
    "savename = save_folder +'/' + main_label + '_' + parameter + '.png'\n",
    "plt.savefig(savename);"
   ]
  },
  {
   "cell_type": "code",
   "execution_count": null,
   "metadata": {},
   "outputs": [],
   "source": [
    "parameter = 'beta_y'\n",
    "multi1 = 1\n",
    "y_label = r'$\\beta_x$ [m]'\n",
    "\n",
    "fig1 = plt.figure(facecolor='w', edgecolor='k', figsize=(4.,4.), tight_layout=True)\n",
    "ax1 = fig1.add_subplot(111)\n",
    "\n",
    "title = main_label + ': ' + parameter\n",
    "ax1.set_title(title)\n",
    "\n",
    "ax1.set_xlabel('Turn [-]')\n",
    "ax1.set_ylabel(y_label)\n",
    "\n",
    "colors = cm.rainbow(np.linspace(0, 1, len(dd1.keys())))\n",
    "c_it = int(0)\n",
    "\n",
    "for key, value in sorted(dd1.items()):\n",
    "    ax1.plot(dd1[key]['turn'][0], dd1[key][parameter][0]*multi1, label=key, color=colors[c_it]);\n",
    "    c_it = c_it + 1;       \n",
    "    \n",
    "ax1.grid(which='both',lw=0.5, ls=':');\n",
    "ax1.legend();\n",
    "ax1.set_xlim(0, 2200);\n",
    "    \n",
    "savename = save_folder +'/' + main_label + '_' + parameter + '.png'\n",
    "plt.savefig(savename);"
   ]
  },
  {
   "cell_type": "code",
   "execution_count": null,
   "metadata": {},
   "outputs": [],
   "source": [
    "parameter = 'D_x'\n",
    "multi1 = 1\n",
    "y_label = r'$D_x$ [m]'\n",
    "\n",
    "fig1 = plt.figure(facecolor='w', edgecolor='k', figsize=(4.,4.), tight_layout=True)\n",
    "ax1 = fig1.add_subplot(111)\n",
    "\n",
    "title = main_label + ': ' + parameter\n",
    "ax1.set_title(title)\n",
    "\n",
    "ax1.set_xlabel('Turn [-]')\n",
    "ax1.set_ylabel(y_label)\n",
    "\n",
    "colors = cm.rainbow(np.linspace(0, 1, len(dd1.keys())))\n",
    "c_it = int(0)\n",
    "\n",
    "for key, value in sorted(dd1.items()):\n",
    "    ax1.plot(dd1[key]['turn'][0], dd1[key][parameter][0]*multi1, label=key, color=colors[c_it]);\n",
    "    c_it = c_it + 1;       \n",
    "    \n",
    "ax1.grid(which='both',lw=0.5, ls=':');\n",
    "ax1.legend();\n",
    "ax1.set_xlim(0, 2200);\n",
    "    \n",
    "savename = save_folder +'/' + main_label + '_' + parameter + '.png'\n",
    "plt.savefig(savename);"
   ]
  },
  {
   "cell_type": "code",
   "execution_count": null,
   "metadata": {},
   "outputs": [],
   "source": [
    "parameter = 'D_y'\n",
    "multi1 = 1\n",
    "y_label = r'$D_y$ [m]'\n",
    "\n",
    "fig1 = plt.figure(facecolor='w', edgecolor='k', figsize=(4.,4.), tight_layout=True)\n",
    "ax1 = fig1.add_subplot(111)\n",
    "\n",
    "title = main_label + ': ' + parameter\n",
    "ax1.set_title(title)\n",
    "\n",
    "ax1.set_xlabel('Turn [-]')\n",
    "ax1.set_ylabel(y_label)\n",
    "\n",
    "colors = cm.rainbow(np.linspace(0, 1, len(dd1.keys())))\n",
    "c_it = int(0)\n",
    "\n",
    "for key, value in sorted(dd1.items()):\n",
    "    ax1.plot(dd1[key]['turn'][0], dd1[key][parameter][0]*multi1, label=key, color=colors[c_it]);\n",
    "    c_it = c_it + 1;       \n",
    "    \n",
    "ax1.grid(which='both',lw=0.5, ls=':');\n",
    "ax1.legend();\n",
    "ax1.set_xlim(0, 2200);\n",
    "    \n",
    "savename = save_folder +'/' + main_label + '_' + parameter + '.png'\n",
    "plt.savefig(savename);"
   ]
  },
  {
   "cell_type": "code",
   "execution_count": null,
   "metadata": {},
   "outputs": [],
   "source": [
    "parameter = 'dpp_rms'\n",
    "multi1 = 1E3\n",
    "y_label = r'$\\frac{\\delta p}{p}_{RMS}$ [1E-3]'\n",
    "\n",
    "fig1 = plt.figure(facecolor='w', edgecolor='k', figsize=(4.,4.), tight_layout=True)\n",
    "ax1 = fig1.add_subplot(111)\n",
    "\n",
    "title = main_label + ': ' + parameter\n",
    "ax1.set_title(title)\n",
    "\n",
    "ax1.set_xlabel('Turn [-]')\n",
    "ax1.set_ylabel(y_label)\n",
    "\n",
    "colors = cm.rainbow(np.linspace(0, 1, len(dd1.keys())))\n",
    "c_it = int(0)\n",
    "\n",
    "for key, value in sorted(dd1.items()):\n",
    "    ax1.plot(dd1[key]['turn'][0], dd1[key][parameter][0]*multi1, label=key, color=colors[c_it]);\n",
    "    c_it = c_it + 1;       \n",
    "    \n",
    "ax1.grid(which='both',lw=0.5, ls=':');\n",
    "ax1.legend();\n",
    "ax1.set_xlim(0, 2200);\n",
    "    \n",
    "savename = save_folder +'/' + main_label + '_' + parameter + '.png'\n",
    "plt.savefig(savename);"
   ]
  },
  {
   "cell_type": "code",
   "execution_count": null,
   "metadata": {},
   "outputs": [],
   "source": [
    "parameter = 'bunchlength'\n",
    "multi1 = 1E9\n",
    "y_label = r'B$_l$ [ns]'\n",
    "\n",
    "fig1 = plt.figure(facecolor='w', edgecolor='k', figsize=(4.,4.), tight_layout=True)\n",
    "ax1 = fig1.add_subplot(111)\n",
    "\n",
    "title = main_label + ': ' + parameter\n",
    "ax1.set_title(title)\n",
    "\n",
    "ax1.set_xlabel('Turn [-]')\n",
    "ax1.set_ylabel(y_label)\n",
    "\n",
    "colors = cm.rainbow(np.linspace(0, 1, len(dd1.keys())))\n",
    "c_it = int(0)\n",
    "\n",
    "for key, value in sorted(dd1.items()):\n",
    "    ax1.plot(dd1[key]['turn'][0], dd1[key][parameter][0]*multi1, label=key, color=colors[c_it]);\n",
    "    c_it = c_it + 1;       \n",
    "    \n",
    "ax1.grid(which='both',lw=0.5, ls=':');\n",
    "ax1.legend();\n",
    "ax1.set_xlim(0, 2200);\n",
    "    \n",
    "savename = save_folder +'/' + main_label + '_' + parameter + '.png'\n",
    "plt.savefig(savename);"
   ]
  },
  {
   "cell_type": "code",
   "execution_count": null,
   "metadata": {},
   "outputs": [],
   "source": [
    "parameter = 'sig_z'\n",
    "multi1 = 1\n",
    "y_label = r'$\\sigma_z$ [m]'\n",
    "\n",
    "fig1 = plt.figure(facecolor='w', edgecolor='k', figsize=(4.,4.), tight_layout=True)\n",
    "ax1 = fig1.add_subplot(111)\n",
    "\n",
    "title = main_label + ': ' + parameter\n",
    "ax1.set_title(title)\n",
    "\n",
    "ax1.set_xlabel('Turn [-]')\n",
    "ax1.set_ylabel(y_label)\n",
    "\n",
    "colors = cm.rainbow(np.linspace(0, 1, len(dd1.keys())))\n",
    "c_it = int(0)\n",
    "\n",
    "for key, value in sorted(dd1.items()):\n",
    "    ax1.plot(dd1[key]['turn'][0], dd1[key][parameter][0]*multi1, label=key, color=colors[c_it]);\n",
    "    c_it = c_it + 1;       \n",
    "    \n",
    "ax1.grid(which='both',lw=0.5, ls=':');\n",
    "ax1.legend();\n",
    "ax1.set_xlim(0, 2200);\n",
    "    \n",
    "savename = save_folder +'/' + main_label + '_' + parameter + '.png'\n",
    "plt.savefig(savename);"
   ]
  },
  {
   "cell_type": "code",
   "execution_count": null,
   "metadata": {},
   "outputs": [],
   "source": [
    "parameter = 'sig_dE'\n",
    "multi1 = 1E3\n",
    "y_label = r'$\\sigma_{dE}$ [MeV]'\n",
    "\n",
    "fig1 = plt.figure(facecolor='w', edgecolor='k', figsize=(4.,4.), tight_layout=True)\n",
    "ax1 = fig1.add_subplot(111)\n",
    "\n",
    "title = main_label + ': ' + parameter\n",
    "ax1.set_title(title)\n",
    "\n",
    "ax1.set_xlabel('Turn [-]')\n",
    "ax1.set_ylabel(y_label)\n",
    "\n",
    "colors = cm.rainbow(np.linspace(0, 1, len(dd1.keys())))\n",
    "c_it = int(0)\n",
    "\n",
    "for key, value in sorted(dd1.items()):\n",
    "    ax1.plot(dd1[key]['turn'][0], dd1[key][parameter][0]*multi1, label=key, color=colors[c_it]);\n",
    "    c_it = c_it + 1;       \n",
    "    \n",
    "ax1.grid(which='both',lw=0.5, ls=':');\n",
    "ax1.legend();\n",
    "ax1.set_xlim(0, 2200);\n",
    "    \n",
    "savename = save_folder +'/' + main_label + '_' + parameter + '.png'\n",
    "plt.savefig(savename);"
   ]
  },
  {
   "cell_type": "code",
   "execution_count": null,
   "metadata": {},
   "outputs": [],
   "source": [
    "parameter = 'eps_z'\n",
    "multi1 = 1\n",
    "y_label = r'$\\epsilon_z$ [eV s]'\n",
    "\n",
    "fig1 = plt.figure(facecolor='w', edgecolor='k', figsize=(4.,4.), tight_layout=True)\n",
    "ax1 = fig1.add_subplot(111)\n",
    "\n",
    "title = main_label + ': ' + parameter\n",
    "ax1.set_title(title)\n",
    "\n",
    "ax1.set_xlabel('Turn [-]')\n",
    "ax1.set_ylabel(y_label)\n",
    "\n",
    "colors = cm.rainbow(np.linspace(0, 1, len(dd1.keys())))\n",
    "c_it = int(0)\n",
    "\n",
    "for key, value in sorted(dd1.items()):\n",
    "    ax1.plot(dd1[key]['turn'][0], dd1[key][parameter][0]*multi1, label=key, color=colors[c_it]);\n",
    "    c_it = c_it + 1;       \n",
    "    \n",
    "ax1.grid(which='both',lw=0.5, ls=':');\n",
    "ax1.legend();\n",
    "ax1.set_xlim(0, 2200);\n",
    "    \n",
    "savename = save_folder +'/' + main_label + '_' + parameter + '.png'\n",
    "plt.savefig(savename);"
   ]
  },
  {
   "cell_type": "code",
   "execution_count": null,
   "metadata": {},
   "outputs": [],
   "source": [
    "parameter = 'epsn_x'\n",
    "multi1 = 1E6\n",
    "y_label = r'$\\epsilon_x$ [mm mrad]'\n",
    "\n",
    "fig1 = plt.figure(facecolor='w', edgecolor='k', figsize=(4.,4.), tight_layout=True)\n",
    "ax1 = fig1.add_subplot(111)\n",
    "\n",
    "title = main_label + ': ' + parameter\n",
    "ax1.set_title(title)\n",
    "\n",
    "ax1.set_xlabel('Turn [-]')\n",
    "ax1.set_ylabel(y_label)\n",
    "\n",
    "colors = cm.rainbow(np.linspace(0, 1, len(dd1.keys())))\n",
    "c_it = int(0)\n",
    "\n",
    "for key, value in sorted(dd1.items()):\n",
    "    ax1.plot(dd1[key]['turn'][0], dd1[key][parameter][0]*multi1, label=key, color=colors[c_it]);\n",
    "    c_it = c_it + 1;       \n",
    "    \n",
    "ax1.grid(which='both',lw=0.5, ls=':');\n",
    "ax1.legend();\n",
    "ax1.set_xlim(0, 2200);\n",
    "    \n",
    "savename = save_folder +'/' + main_label + '_' + parameter + '.png'\n",
    "plt.savefig(savename);"
   ]
  },
  {
   "cell_type": "code",
   "execution_count": null,
   "metadata": {},
   "outputs": [],
   "source": [
    "parameter = 'epsn_x'\n",
    "multi1 = 1E6\n",
    "y_label = r'$\\epsilon_x$ [mm mrad]'\n",
    "\n",
    "fig1 = plt.figure(facecolor='w', edgecolor='k', figsize=(4.,4.), tight_layout=True)\n",
    "ax1 = fig1.add_subplot(111)\n",
    "\n",
    "title = main_label + ': ' + parameter\n",
    "ax1.set_title(title)\n",
    "\n",
    "ax1.set_xlabel('Turn [-]')\n",
    "ax1.set_ylabel(y_label)\n",
    "\n",
    "colors = cm.rainbow(np.linspace(0, 1, len(dd1.keys())))\n",
    "c_it = int(0)\n",
    "\n",
    "x_dat = dd1['STFC SCARF']['turn'][0]\n",
    "y_dat = dd1['CERN HPC-Batch'][parameter][0] - dd1['STFC SCARF'][parameter][0]\n",
    "\n",
    "ax1.plot(x_dat, y_dat,color='k', label='Difference');\n",
    "    \n",
    "ax1.grid(which='both',lw=0.5, ls=':');\n",
    "ax1.legend();\n",
    "ax1.set_xlim(0, 2200);\n",
    "    \n",
    "savename = save_folder +'/' + main_label + '_' + parameter + '_diff.png'\n",
    "plt.savefig(savename);"
   ]
  },
  {
   "cell_type": "code",
   "execution_count": null,
   "metadata": {},
   "outputs": [],
   "source": [
    "parameter = 'epsn_y'\n",
    "multi1 = 1E6\n",
    "y_label = r'$\\epsilon_y$ [mm mrad]'\n",
    "\n",
    "fig1 = plt.figure(facecolor='w', edgecolor='k', figsize=(4.,4.), tight_layout=True)\n",
    "ax1 = fig1.add_subplot(111)\n",
    "\n",
    "title = main_label + ': ' + parameter\n",
    "ax1.set_title(title)\n",
    "\n",
    "ax1.set_xlabel('Turn [-]')\n",
    "ax1.set_ylabel(y_label)\n",
    "\n",
    "colors = cm.rainbow(np.linspace(0, 1, len(dd1.keys())))\n",
    "c_it = int(0)\n",
    "\n",
    "for key, value in sorted(dd1.items()):\n",
    "    ax1.plot(dd1[key]['turn'][0], dd1[key][parameter][0]*multi1, label=key, color=colors[c_it]);\n",
    "    c_it = c_it + 1;       \n",
    "    \n",
    "ax1.grid(which='both',lw=0.5, ls=':');\n",
    "ax1.legend();\n",
    "ax1.set_xlim(0, 2200);\n",
    "    \n",
    "savename = save_folder +'/' + main_label + '_' + parameter + '.png'\n",
    "plt.savefig(savename);"
   ]
  },
  {
   "cell_type": "code",
   "execution_count": null,
   "metadata": {},
   "outputs": [],
   "source": [
    "parameter = 'epsn_y'\n",
    "multi1 = 1E6\n",
    "y_label = r'$\\epsilon_y$ [mm mrad]'\n",
    "\n",
    "fig1 = plt.figure(facecolor='w', edgecolor='k', figsize=(4.,4.), tight_layout=True)\n",
    "ax1 = fig1.add_subplot(111)\n",
    "\n",
    "title = main_label + ': ' + parameter\n",
    "ax1.set_title(title)\n",
    "\n",
    "ax1.set_xlabel('Turn [-]')\n",
    "ax1.set_ylabel(y_label)\n",
    "\n",
    "colors = cm.rainbow(np.linspace(0, 1, len(dd1.keys())))\n",
    "c_it = int(0)\n",
    "\n",
    "x_dat = dd1['STFC SCARF']['turn'][0]\n",
    "y_dat = dd1['CERN HPC-Batch'][parameter][0] - dd1['STFC SCARF'][parameter][0]\n",
    "\n",
    "ax1.plot(x_dat, y_dat,color='k', label='Difference');\n",
    "    \n",
    "ax1.grid(which='both',lw=0.5, ls=':');\n",
    "ax1.legend();\n",
    "ax1.set_xlim(0, 2200);\n",
    "    \n",
    "savename = save_folder +'/' + main_label + '_' + parameter + '_diff.png'\n",
    "plt.savefig(savename);"
   ]
  },
  {
   "cell_type": "markdown",
   "metadata": {},
   "source": [
    "### Conclusions\n",
    "---\n",
    "- PyORBIT successfully installed on SCARF\n",
    "- Simulation results agree with past HPC-Batch run\n",
    "- SCARF 4 times slower than HPC-Batch"
   ]
  }
 ],
 "metadata": {
  "kernelspec": {
   "display_name": "Python 3",
   "language": "python",
   "name": "python3"
  },
  "language_info": {
   "codemirror_mode": {
    "name": "ipython",
    "version": 3
   },
   "file_extension": ".py",
   "mimetype": "text/x-python",
   "name": "python",
   "nbconvert_exporter": "python",
   "pygments_lexer": "ipython3",
   "version": "3.10.2"
  }
 },
 "nbformat": 4,
 "nbformat_minor": 4
}
